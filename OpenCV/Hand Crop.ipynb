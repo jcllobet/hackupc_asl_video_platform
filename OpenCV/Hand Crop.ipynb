{
 "cells": [
  {
   "cell_type": "code",
   "execution_count": 1,
   "metadata": {},
   "outputs": [],
   "source": [
    "from __future__ import print_function\n",
    "import binascii\n",
    "import struct\n",
    "from PIL import Image\n",
    "import numpy as np\n",
    "import scipy\n",
    "import scipy.misc\n",
    "import scipy.cluster\n",
    "import cv2\n",
    "import numpy as np\n",
    "import pickle\n",
    "from collections import Counter\n",
    "import operator\n"
   ]
  },
  {
   "cell_type": "code",
   "execution_count": 2,
   "metadata": {},
   "outputs": [],
   "source": [
    "def most_common_color(image):\n",
    "    ar = np.asarray(face)\n",
    "    shape = ar.shape\n",
    "    ar = ar.reshape(scipy.product(shape[:2]), shape[2]).astype(float)\n",
    "\n",
    "    codes, dist = scipy.cluster.vq.kmeans(ar, NUM_CLUSTERS)\n",
    "\n",
    "    vecs, dist = scipy.cluster.vq.vq(ar, codes)         \n",
    "    counts, bins = scipy.histogram(vecs, len(codes))   \n",
    "    index_max = scipy.argmax(counts)                    \n",
    "    peak = codes[index_max]\n",
    "    return peak"
   ]
  },
  {
   "cell_type": "code",
   "execution_count": 3,
   "metadata": {},
   "outputs": [],
   "source": [
    "face_classifier = cv2.CascadeClassifier('haarcascade_frontalface_default.xml')\n",
    "\n",
    "def face_detector(img, size=0.2):\n",
    "    # Convert image to grayscale\n",
    "    gray = cv2.cvtColor(img,cv2.COLOR_BGR2GRAY)\n",
    "    faces = face_classifier.detectMultiScale(gray, 1.3, 5)\n",
    "    if faces is ():\n",
    "        return img,0,0,500,500\n",
    "    \n",
    "    for (x,y,w,h) in faces:\n",
    "        x = x - 20\n",
    "        w = w + 20\n",
    "        y = y - 20\n",
    "        h = h + 20\n",
    "        cv2.rectangle(img,(x,y),(x+w,y+h),(255,0,0),2)\n",
    "        roi_gray = gray[y:y+h, x:x+w]\n",
    "        roi_color = img[y:y+h, x:x+w]\n",
    "    roi_color = cv2.flip(roi_color,1)\n",
    "    x_izquierda=x\n",
    "    x_derecha=x+w\n",
    "    y_arriba=y\n",
    "    y_abajo=y+h\n",
    "    return roi_color,x_izquierda,x_derecha,y_abajo,y_arriba\n"
   ]
  },
  {
   "cell_type": "code",
   "execution_count": 4,
   "metadata": {},
   "outputs": [],
   "source": [
    "def suma(lista):\n",
    "    high = []\n",
    "    for x in lista:\n",
    "        high.append(x+30)\n",
    "    return high"
   ]
  },
  {
   "cell_type": "code",
   "execution_count": 5,
   "metadata": {},
   "outputs": [],
   "source": [
    "def resta(lista):\n",
    "    low = []\n",
    "    for x in lista:\n",
    "        low.append(x-20)\n",
    "    return low"
   ]
  },
  {
   "cell_type": "code",
   "execution_count": 6,
   "metadata": {},
   "outputs": [],
   "source": [
    "cap = cv2.VideoCapture(0)\n",
    "color = []\n",
    "NUM_CLUSTERS = 6\n",
    "i=0\n",
    "while True:\n",
    "    i+=1\n",
    "    ret, frame = cap.read()\n",
    "    \n",
    "    \n",
    "    #catch the zone where is the face\n",
    "    face,x_izquierda,x_derecha,y_abajo,y_arriba = face_detector(frame)\n",
    "    #take the color of the skin (most used)\n",
    "    most_common_color_rgb = most_common_color(face).tolist()\n",
    "    high = tuple(suma(most_common_color_rgb))\n",
    "    low = tuple(resta(most_common_color_rgb))\n",
    "    #apply a mask on that color based on a range of 20\n",
    "    mask = cv2.inRange(frame, low, high)\n",
    "    #mask is the new \"Final photo\"\n",
    "    cv2.rectangle(mask,(0,0),(1500,y_abajo+20),(255,255,0),-1)\n",
    "    thresh = cv2.erode(mask, None, iterations=2)\n",
    "    thresh = cv2.dilate(thresh, None, iterations=2)\n",
    "    \n",
    "    ######## find contours\n",
    "    contours,hierarchy = cv2.findContours(thresh, cv2.RETR_EXTERNAL, cv2.CHAIN_APPROX_NONE)\n",
    "    \n",
    "    if len(contours) != 0:\n",
    "        # draw in blue the contours that were founded\n",
    "        cv2.drawContours(mask, contours, -1, 255, 3)\n",
    "\n",
    "        #find the biggest area\n",
    "        c = max(contours, key = cv2.contourArea)\n",
    "\n",
    "        x,y,w,h = cv2.boundingRect(c)\n",
    "        # draw the book contour (in green)\n",
    "        \n",
    "        if h>50 and h<130 and w > 70 and w<130:\n",
    "            cv2.rectangle(mask,(x,y),(x+w,y+h),(255,255,0),9)\n",
    "            add_h=224-h\n",
    "            add_w=224-w\n",
    "            hand = frame[x-(add_w//2):y+h+add_h, x+(add_h//2):x+w+add_w]\n",
    "            cv2.imwrite(\"hand\"+str(i)+\".png\", hand)\n",
    "    \n",
    "    cv2.imshow(\"patapa\",mask)\n",
    "    if cv2.waitKey(1) == 13: #13 is the Enter Key\n",
    "        break\n",
    "        \n",
    "cap.release()\n",
    "cv2.destroyAllWindows()"
   ]
  },
  {
   "cell_type": "code",
   "execution_count": null,
   "metadata": {},
   "outputs": [],
   "source": [
    "\n",
    "\n"
   ]
  },
  {
   "cell_type": "code",
   "execution_count": null,
   "metadata": {},
   "outputs": [],
   "source": []
  },
  {
   "cell_type": "code",
   "execution_count": null,
   "metadata": {},
   "outputs": [],
   "source": []
  },
  {
   "cell_type": "code",
   "execution_count": null,
   "metadata": {},
   "outputs": [],
   "source": []
  },
  {
   "cell_type": "code",
   "execution_count": null,
   "metadata": {},
   "outputs": [],
   "source": []
  },
  {
   "cell_type": "code",
   "execution_count": null,
   "metadata": {},
   "outputs": [],
   "source": []
  }
 ],
 "metadata": {
  "kernelspec": {
   "display_name": "Python 3",
   "language": "python",
   "name": "python3"
  },
  "language_info": {
   "codemirror_mode": {
    "name": "ipython",
    "version": 3
   },
   "file_extension": ".py",
   "mimetype": "text/x-python",
   "name": "python",
   "nbconvert_exporter": "python",
   "pygments_lexer": "ipython3",
   "version": "3.7.3"
  }
 },
 "nbformat": 4,
 "nbformat_minor": 2
}
